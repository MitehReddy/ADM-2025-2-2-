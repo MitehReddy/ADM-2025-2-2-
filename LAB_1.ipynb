{
  "nbformat": 4,
  "nbformat_minor": 0,
  "metadata": {
    "colab": {
      "provenance": [],
      "name": "LAB:1.ipynb",
      "include_colab_link": true
    },
    "kernelspec": {
      "name": "python3",
      "display_name": "Python 3"
    },
    "language_info": {
      "name": "python"
    }
  },
  "cells": [
    {
      "cell_type": "markdown",
      "metadata": {
        "id": "view-in-github",
        "colab_type": "text"
      },
      "source": [
        "<a href=\"https://colab.research.google.com/github/MitehReddy/ADM-2025-2-2-/blob/main/LAB_1.ipynb\" target=\"_parent\"><img src=\"https://colab.research.google.com/assets/colab-badge.svg\" alt=\"Open In Colab\"/></a>"
      ]
    },
    {
      "cell_type": "code",
      "execution_count": null,
      "metadata": {
        "id": "c1QcANnzq_Pn"
      },
      "outputs": [],
      "source": [
        "import pandas as pd"
      ]
    },
    {
      "cell_type": "code",
      "source": [
        "file_path = '/content/_titanic.csv'\n",
        "data = pd.read_csv(file_path)"
      ],
      "metadata": {
        "id": "iJuc-0i8smA1"
      },
      "execution_count": null,
      "outputs": []
    },
    {
      "cell_type": "code",
      "source": [
        "print(\"Dataset Preview:\")\n",
        "print(data.head())"
      ],
      "metadata": {
        "colab": {
          "base_uri": "https://localhost:8080/"
        },
        "id": "gei-aPnosylj",
        "outputId": "86caaf5c-1e6e-4cbe-a27d-b4c13f982e62"
      },
      "execution_count": null,
      "outputs": [
        {
          "output_type": "stream",
          "name": "stdout",
          "text": [
            "Dataset Preview:\n",
            "   PassengerId  Survived  Pclass  \\\n",
            "0            1         0       3   \n",
            "1            2         1       1   \n",
            "2            3         1       3   \n",
            "3            4         1       1   \n",
            "4            5         0       3   \n",
            "\n",
            "                                                Name     Sex   Age  SibSp  \\\n",
            "0                            Braund, Mr. Owen Harris    male  22.0      1   \n",
            "1  Cumings, Mrs. John Bradley (Florence Briggs Th...  female  38.0      1   \n",
            "2                             Heikkinen, Miss. Laina  female  26.0      0   \n",
            "3       Futrelle, Mrs. Jacques Heath (Lily May Peel)  female  35.0      1   \n",
            "4                           Allen, Mr. William Henry    male  35.0      0   \n",
            "\n",
            "   Parch            Ticket     Fare Cabin Embarked  \n",
            "0      0         A/5 21171   7.2500   NaN        S  \n",
            "1      0          PC 17599  71.2833   C85        C  \n",
            "2      0  STON/O2. 3101282   7.9250   NaN        S  \n",
            "3      0            113803  53.1000  C123        S  \n",
            "4      0            373450   8.0500   NaN        S  \n"
          ]
        }
      ]
    },
    {
      "cell_type": "code",
      "source": [
        "null_values = data.isnull().sum()\n",
        "print(\"\\nNull Values in Each Column:\")\n",
        "print(null_values)"
      ],
      "metadata": {
        "colab": {
          "base_uri": "https://localhost:8080/"
        },
        "id": "ZlqkC8Trt1mM",
        "outputId": "c5e4def8-c6f6-421b-8a64-0ded1a2d143e"
      },
      "execution_count": null,
      "outputs": [
        {
          "output_type": "stream",
          "name": "stdout",
          "text": [
            "\n",
            "Null Values in Each Column:\n",
            "PassengerId      0\n",
            "Survived         0\n",
            "Pclass           0\n",
            "Name             0\n",
            "Sex              0\n",
            "Age            177\n",
            "SibSp            0\n",
            "Parch            0\n",
            "Ticket           0\n",
            "Fare             0\n",
            "Cabin          687\n",
            "Embarked         2\n",
            "dtype: int64\n"
          ]
        }
      ]
    },
    {
      "cell_type": "code",
      "source": [
        "mean_values = data.mean(numeric_only=True)\n",
        "median_values = data.median(numeric_only=True)\n",
        "mode_values = data.mode(numeric_only=True).iloc[0]"
      ],
      "metadata": {
        "id": "-FNPGlZluc2E"
      },
      "execution_count": null,
      "outputs": []
    },
    {
      "cell_type": "code",
      "source": [
        "print(\"\\nMean Values:\")\n",
        "print(mean_values)"
      ],
      "metadata": {
        "colab": {
          "base_uri": "https://localhost:8080/"
        },
        "id": "Lws_GO-Rui_3",
        "outputId": "49cabcfb-fd91-4b23-b796-8a41e72ec4bc"
      },
      "execution_count": null,
      "outputs": [
        {
          "output_type": "stream",
          "name": "stdout",
          "text": [
            "\n",
            "Mean Values:\n",
            "PassengerId    446.000000\n",
            "Survived         0.383838\n",
            "Pclass           2.308642\n",
            "Age             29.699118\n",
            "SibSp            0.523008\n",
            "Parch            0.381594\n",
            "Fare            32.204208\n",
            "dtype: float64\n"
          ]
        }
      ]
    },
    {
      "cell_type": "code",
      "source": [
        "print(\"\\nMedian Values:\")\n",
        "print(median_values)"
      ],
      "metadata": {
        "colab": {
          "base_uri": "https://localhost:8080/"
        },
        "id": "yZ7Q8ke8upNm",
        "outputId": "c060fe25-613f-4f8f-ae58-ffeddce30ac9"
      },
      "execution_count": null,
      "outputs": [
        {
          "output_type": "stream",
          "name": "stdout",
          "text": [
            "\n",
            "Median Values:\n",
            "PassengerId    446.0000\n",
            "Survived         0.0000\n",
            "Pclass           3.0000\n",
            "Age             28.0000\n",
            "SibSp            0.0000\n",
            "Parch            0.0000\n",
            "Fare            14.4542\n",
            "dtype: float64\n"
          ]
        }
      ]
    },
    {
      "cell_type": "code",
      "source": [
        "print(\"\\nMode Values:\")\n",
        "print(mode_values)"
      ],
      "metadata": {
        "colab": {
          "base_uri": "https://localhost:8080/"
        },
        "id": "FCBYvk65uqeq",
        "outputId": "c0cfa331-d7d3-4154-a21c-f48ee8aaf83c"
      },
      "execution_count": null,
      "outputs": [
        {
          "output_type": "stream",
          "name": "stdout",
          "text": [
            "\n",
            "Mode Values:\n",
            "PassengerId     1.00\n",
            "Survived        0.00\n",
            "Pclass          3.00\n",
            "Age            24.00\n",
            "SibSp           0.00\n",
            "Parch           0.00\n",
            "Fare            8.05\n",
            "Name: 0, dtype: float64\n"
          ]
        }
      ]
    },
    {
      "cell_type": "code",
      "source": [
        "numeric_columns = data.select_dtypes(include=['float64', 'int64']).columns\n",
        "scaler = MinMaxScaler()\n",
        "normalized_data = pd.DataFrame(scaler.fit_transform(data[numeric_columns]), columns=numeric_columns)"
      ],
      "metadata": {
        "id": "Iwo2XCY5uus3"
      },
      "execution_count": null,
      "outputs": []
    },
    {
      "cell_type": "code",
      "source": [
        "print(\"\\nNormalized Data (Preview):\")\n",
        "print(normalized_data.head())"
      ],
      "metadata": {
        "colab": {
          "base_uri": "https://localhost:8080/"
        },
        "id": "2aAX7E4Kux_c",
        "outputId": "18a27c39-0185-4a07-e1cb-6e42f60709e8"
      },
      "execution_count": null,
      "outputs": [
        {
          "output_type": "stream",
          "name": "stdout",
          "text": [
            "\n",
            "Normalized Data (Preview):\n",
            "   PassengerId  Survived  Pclass       Age  SibSp  Parch      Fare\n",
            "0     0.000000       0.0     1.0  0.271174  0.125    0.0  0.014151\n",
            "1     0.001124       1.0     0.0  0.472229  0.125    0.0  0.139136\n",
            "2     0.002247       1.0     1.0  0.321438  0.000    0.0  0.015469\n",
            "3     0.003371       1.0     0.0  0.434531  0.125    0.0  0.103644\n",
            "4     0.004494       0.0     1.0  0.434531  0.000    0.0  0.015713\n"
          ]
        }
      ]
    },
    {
      "cell_type": "code",
      "source": [
        "normalized_data.to_csv('/content/normalized_data.csv', index=False)\n",
        "print(\"\\nNormalized data has been saved to 'normalized_data.csv'.\")"
      ],
      "metadata": {
        "colab": {
          "base_uri": "https://localhost:8080/"
        },
        "id": "E_fLzpURu4KT",
        "outputId": "bf7b0d63-9bb2-441c-9b7b-b16ef64a7ebf"
      },
      "execution_count": null,
      "outputs": [
        {
          "output_type": "stream",
          "name": "stdout",
          "text": [
            "\n",
            "Normalized data has been saved to 'normalized_data.csv'.\n"
          ]
        }
      ]
    }
  ]
}